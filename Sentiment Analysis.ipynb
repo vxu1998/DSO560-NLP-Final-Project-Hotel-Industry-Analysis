{
 "cells": [
  {
   "cell_type": "code",
   "execution_count": 19,
   "metadata": {
    "ExecuteTime": {
     "end_time": "2022-05-04T23:55:25.731360Z",
     "start_time": "2022-05-04T23:55:25.722767Z"
    }
   },
   "outputs": [],
   "source": [
    "import pandas as pd\n",
    "from typing import List, Tuple\n",
    "import numpy as np\n",
    "from collections import Counter"
   ]
  },
  {
   "cell_type": "code",
   "execution_count": 20,
   "metadata": {
    "ExecuteTime": {
     "end_time": "2022-05-04T23:55:38.605622Z",
     "start_time": "2022-05-04T23:55:32.408068Z"
    }
   },
   "outputs": [],
   "source": [
    "from keras.layers import Input, Dense, LSTM, Flatten, concatenate, Activation, RepeatVector, Permute\n",
    "from keras.models import Model\n",
    "from keras.preprocessing.sequence import pad_sequences\n",
    "from tensorflow.keras.optimizers import Adam\n",
    "from random import randint\n",
    "from numpy import array, argmax, asarray, zeros\n",
    "from keras.models import Sequential\n",
    "from keras.layers import Dense\n",
    "from keras.layers import Embedding\n",
    "import numpy as np \n",
    "import spacy\n",
    "nlp = spacy.load('en_core_web_sm', disable=[\"pos\", \"ner\", \"tagger\"])"
   ]
  },
  {
   "cell_type": "code",
   "execution_count": 2,
   "metadata": {
    "ExecuteTime": {
     "end_time": "2022-05-04T23:51:02.895694Z",
     "start_time": "2022-05-04T23:50:54.494528Z"
    },
    "scrolled": true
   },
   "outputs": [
    {
     "data": {
      "text/html": [
       "<div>\n",
       "<style scoped>\n",
       "    .dataframe tbody tr th:only-of-type {\n",
       "        vertical-align: middle;\n",
       "    }\n",
       "\n",
       "    .dataframe tbody tr th {\n",
       "        vertical-align: top;\n",
       "    }\n",
       "\n",
       "    .dataframe thead th {\n",
       "        text-align: right;\n",
       "    }\n",
       "</style>\n",
       "<table border=\"1\" class=\"dataframe\">\n",
       "  <thead>\n",
       "    <tr style=\"text-align: right;\">\n",
       "      <th></th>\n",
       "      <th>User_id</th>\n",
       "      <th>Product_id</th>\n",
       "      <th>Rating</th>\n",
       "      <th>Date</th>\n",
       "      <th>Review</th>\n",
       "      <th>Label</th>\n",
       "      <th>Review_cleaned</th>\n",
       "      <th>Review_no_stopwords</th>\n",
       "      <th>Review_Lemma</th>\n",
       "    </tr>\n",
       "  </thead>\n",
       "  <tbody>\n",
       "    <tr>\n",
       "      <th>0</th>\n",
       "      <td>923</td>\n",
       "      <td>0</td>\n",
       "      <td>3</td>\n",
       "      <td>2014-12-08</td>\n",
       "      <td>the food at snack is a selection of popular gr...</td>\n",
       "      <td>-1</td>\n",
       "      <td>the food at snack is a selection of popular gr...</td>\n",
       "      <td>food snack selection popular greek dishes appe...</td>\n",
       "      <td>food snack selection popular greek dish appeti...</td>\n",
       "    </tr>\n",
       "    <tr>\n",
       "      <th>1</th>\n",
       "      <td>924</td>\n",
       "      <td>0</td>\n",
       "      <td>3</td>\n",
       "      <td>2013-05-16</td>\n",
       "      <td>this little place in soho is wonderful. i had ...</td>\n",
       "      <td>-1</td>\n",
       "      <td>this little place in soho is wonderful  i had ...</td>\n",
       "      <td>little place soho wonderful lamb sandwich glas...</td>\n",
       "      <td>little place soho wonderful lamb sandwich glas...</td>\n",
       "    </tr>\n",
       "    <tr>\n",
       "      <th>2</th>\n",
       "      <td>925</td>\n",
       "      <td>0</td>\n",
       "      <td>4</td>\n",
       "      <td>2013-07-01</td>\n",
       "      <td>ordered lunch for 15 from snack last friday. ã...</td>\n",
       "      <td>-1</td>\n",
       "      <td>ordered lunch for  NUMBER  from snack last fri...</td>\n",
       "      <td>ordered lunch NUMBER snack last friday ãâ tim...</td>\n",
       "      <td>order lunch NUMBER snack last friday ãâ time ...</td>\n",
       "    </tr>\n",
       "    <tr>\n",
       "      <th>3</th>\n",
       "      <td>926</td>\n",
       "      <td>0</td>\n",
       "      <td>4</td>\n",
       "      <td>2011-07-28</td>\n",
       "      <td>this is a beautiful quaint little restaurant o...</td>\n",
       "      <td>-1</td>\n",
       "      <td>this is a beautiful quaint little restaurant o...</td>\n",
       "      <td>beautiful quaint little restaurant pretty stre...</td>\n",
       "      <td>beautiful quaint little restaurant pretty stre...</td>\n",
       "    </tr>\n",
       "    <tr>\n",
       "      <th>4</th>\n",
       "      <td>927</td>\n",
       "      <td>0</td>\n",
       "      <td>4</td>\n",
       "      <td>2010-11-01</td>\n",
       "      <td>snack is great place for a ãâ casual sit down...</td>\n",
       "      <td>-1</td>\n",
       "      <td>snack is great place for a ãâ casual sit down...</td>\n",
       "      <td>snack great place ãâ casual sit lunch especia...</td>\n",
       "      <td>snack great place ãâ casual sit lunch especia...</td>\n",
       "    </tr>\n",
       "  </tbody>\n",
       "</table>\n",
       "</div>"
      ],
      "text/plain": [
       "   User_id  Product_id  Rating        Date  \\\n",
       "0      923           0       3  2014-12-08   \n",
       "1      924           0       3  2013-05-16   \n",
       "2      925           0       4  2013-07-01   \n",
       "3      926           0       4  2011-07-28   \n",
       "4      927           0       4  2010-11-01   \n",
       "\n",
       "                                              Review  Label  \\\n",
       "0  the food at snack is a selection of popular gr...     -1   \n",
       "1  this little place in soho is wonderful. i had ...     -1   \n",
       "2  ordered lunch for 15 from snack last friday. ã...     -1   \n",
       "3  this is a beautiful quaint little restaurant o...     -1   \n",
       "4  snack is great place for a ãâ casual sit down...     -1   \n",
       "\n",
       "                                      Review_cleaned  \\\n",
       "0  the food at snack is a selection of popular gr...   \n",
       "1  this little place in soho is wonderful  i had ...   \n",
       "2  ordered lunch for  NUMBER  from snack last fri...   \n",
       "3  this is a beautiful quaint little restaurant o...   \n",
       "4  snack is great place for a ãâ casual sit down...   \n",
       "\n",
       "                                 Review_no_stopwords  \\\n",
       "0  food snack selection popular greek dishes appe...   \n",
       "1  little place soho wonderful lamb sandwich glas...   \n",
       "2  ordered lunch NUMBER snack last friday ãâ tim...   \n",
       "3  beautiful quaint little restaurant pretty stre...   \n",
       "4  snack great place ãâ casual sit lunch especia...   \n",
       "\n",
       "                                        Review_Lemma  \n",
       "0  food snack selection popular greek dish appeti...  \n",
       "1  little place soho wonderful lamb sandwich glas...  \n",
       "2  order lunch NUMBER snack last friday ãâ time ...  \n",
       "3  beautiful quaint little restaurant pretty stre...  \n",
       "4  snack great place ãâ casual sit lunch especia...  "
      ]
     },
     "execution_count": 2,
     "metadata": {},
     "output_type": "execute_result"
    }
   ],
   "source": [
    "df=pd.read_csv('cleaned_data.csv') \n",
    "df.head()"
   ]
  },
  {
   "cell_type": "code",
   "execution_count": 3,
   "metadata": {
    "ExecuteTime": {
     "end_time": "2022-05-04T23:51:09.005489Z",
     "start_time": "2022-05-04T23:51:08.792822Z"
    }
   },
   "outputs": [
    {
     "name": "stdout",
     "output_type": "stream",
     "text": [
      "<class 'pandas.core.frame.DataFrame'>\n",
      "RangeIndex: 359052 entries, 0 to 359051\n",
      "Data columns (total 9 columns):\n",
      " #   Column               Non-Null Count   Dtype \n",
      "---  ------               --------------   ----- \n",
      " 0   User_id              359052 non-null  int64 \n",
      " 1   Product_id           359052 non-null  int64 \n",
      " 2   Rating               359052 non-null  int64 \n",
      " 3   Date                 359052 non-null  object\n",
      " 4   Review               359052 non-null  object\n",
      " 5   Label                359052 non-null  int64 \n",
      " 6   Review_cleaned       359052 non-null  object\n",
      " 7   Review_no_stopwords  359001 non-null  object\n",
      " 8   Review_Lemma         359001 non-null  object\n",
      "dtypes: int64(4), object(5)\n",
      "memory usage: 24.7+ MB\n"
     ]
    }
   ],
   "source": [
    "df.info()"
   ]
  },
  {
   "cell_type": "code",
   "execution_count": 5,
   "metadata": {
    "ExecuteTime": {
     "end_time": "2022-05-04T23:35:32.270964Z",
     "start_time": "2022-05-04T23:35:32.263397Z"
    }
   },
   "outputs": [],
   "source": [
    "# df[df['Review_Lemma'].isna()]"
   ]
  },
  {
   "cell_type": "code",
   "execution_count": 4,
   "metadata": {
    "ExecuteTime": {
     "end_time": "2022-05-04T23:51:10.998105Z",
     "start_time": "2022-05-04T23:51:10.543924Z"
    }
   },
   "outputs": [
    {
     "name": "stdout",
     "output_type": "stream",
     "text": [
      "<class 'pandas.core.frame.DataFrame'>\n",
      "Int64Index: 359001 entries, 0 to 359051\n",
      "Data columns (total 9 columns):\n",
      " #   Column               Non-Null Count   Dtype \n",
      "---  ------               --------------   ----- \n",
      " 0   User_id              359001 non-null  int64 \n",
      " 1   Product_id           359001 non-null  int64 \n",
      " 2   Rating               359001 non-null  int64 \n",
      " 3   Date                 359001 non-null  object\n",
      " 4   Review               359001 non-null  object\n",
      " 5   Label                359001 non-null  int64 \n",
      " 6   Review_cleaned       359001 non-null  object\n",
      " 7   Review_no_stopwords  359001 non-null  object\n",
      " 8   Review_Lemma         359001 non-null  object\n",
      "dtypes: int64(4), object(5)\n",
      "memory usage: 27.4+ MB\n"
     ]
    }
   ],
   "source": [
    "df=df.dropna()\n",
    "df.info()"
   ]
  },
  {
   "cell_type": "code",
   "execution_count": 5,
   "metadata": {
    "ExecuteTime": {
     "end_time": "2022-05-04T23:51:12.455376Z",
     "start_time": "2022-05-04T23:51:12.447259Z"
    }
   },
   "outputs": [
    {
     "data": {
      "text/plain": [
       "923"
      ]
     },
     "execution_count": 5,
     "metadata": {},
     "output_type": "execute_result"
    }
   ],
   "source": [
    "df['Product_id'].nunique()"
   ]
  },
  {
   "cell_type": "code",
   "execution_count": 6,
   "metadata": {
    "ExecuteTime": {
     "end_time": "2022-05-04T23:51:12.833410Z",
     "start_time": "2022-05-04T23:51:12.826318Z"
    }
   },
   "outputs": [
    {
     "data": {
      "text/plain": [
       " 1    322123\n",
       "-1     36878\n",
       "Name: Label, dtype: int64"
      ]
     },
     "execution_count": 6,
     "metadata": {},
     "output_type": "execute_result"
    }
   ],
   "source": [
    "df.Label.value_counts()"
   ]
  },
  {
   "cell_type": "code",
   "execution_count": 7,
   "metadata": {
    "ExecuteTime": {
     "end_time": "2022-05-04T23:51:13.328623Z",
     "start_time": "2022-05-04T23:51:13.321435Z"
    }
   },
   "outputs": [
    {
     "data": {
      "text/plain": [
       "5    141141\n",
       "4    135236\n",
       "3     47635\n",
       "2     20771\n",
       "1     14218\n",
       "Name: Rating, dtype: int64"
      ]
     },
     "execution_count": 7,
     "metadata": {},
     "output_type": "execute_result"
    }
   ],
   "source": [
    "df.Rating.value_counts()"
   ]
  },
  {
   "cell_type": "markdown",
   "metadata": {},
   "source": [
    "* **Rated 1,2,3: negative reviews**\n",
    "* **Rated 4,5: positive reviews**"
   ]
  },
  {
   "cell_type": "code",
   "execution_count": 8,
   "metadata": {
    "ExecuteTime": {
     "end_time": "2022-05-04T23:51:14.611361Z",
     "start_time": "2022-05-04T23:51:14.425655Z"
    }
   },
   "outputs": [
    {
     "data": {
      "text/html": [
       "<div>\n",
       "<style scoped>\n",
       "    .dataframe tbody tr th:only-of-type {\n",
       "        vertical-align: middle;\n",
       "    }\n",
       "\n",
       "    .dataframe tbody tr th {\n",
       "        vertical-align: top;\n",
       "    }\n",
       "\n",
       "    .dataframe thead th {\n",
       "        text-align: right;\n",
       "    }\n",
       "</style>\n",
       "<table border=\"1\" class=\"dataframe\">\n",
       "  <thead>\n",
       "    <tr style=\"text-align: right;\">\n",
       "      <th></th>\n",
       "      <th>User_id</th>\n",
       "      <th>Product_id</th>\n",
       "      <th>Rating</th>\n",
       "      <th>Date</th>\n",
       "      <th>Review</th>\n",
       "      <th>Label</th>\n",
       "      <th>Review_cleaned</th>\n",
       "      <th>Review_no_stopwords</th>\n",
       "      <th>Review_Lemma</th>\n",
       "    </tr>\n",
       "  </thead>\n",
       "  <tbody>\n",
       "    <tr>\n",
       "      <th>0</th>\n",
       "      <td>937</td>\n",
       "      <td>0</td>\n",
       "      <td>4</td>\n",
       "      <td>2014-10-15</td>\n",
       "      <td>tiny little place, but very good food. pastits...</td>\n",
       "      <td>1</td>\n",
       "      <td>tiny little place  but very good food  pastits...</td>\n",
       "      <td>tiny little place good food pastitsio especial...</td>\n",
       "      <td>tiny little place good food pastitsio especial...</td>\n",
       "    </tr>\n",
       "    <tr>\n",
       "      <th>1</th>\n",
       "      <td>938</td>\n",
       "      <td>0</td>\n",
       "      <td>5</td>\n",
       "      <td>2014-10-10</td>\n",
       "      <td>i had the braised lamb sandwich and was one of...</td>\n",
       "      <td>1</td>\n",
       "      <td>i had the braised lamb sandwich and was one of...</td>\n",
       "      <td>braised lamb sandwich one best sandwiches life...</td>\n",
       "      <td>braise lamb sandwich one best sandwich life fa...</td>\n",
       "    </tr>\n",
       "    <tr>\n",
       "      <th>2</th>\n",
       "      <td>939</td>\n",
       "      <td>0</td>\n",
       "      <td>3</td>\n",
       "      <td>2014-10-03</td>\n",
       "      <td>this spot is close to my job so i decided to c...</td>\n",
       "      <td>1</td>\n",
       "      <td>this spot is close to my job so i decided to c...</td>\n",
       "      <td>spot close job decided check lunch prices woul...</td>\n",
       "      <td>spot close job decide check lunch price would ...</td>\n",
       "    </tr>\n",
       "    <tr>\n",
       "      <th>3</th>\n",
       "      <td>940</td>\n",
       "      <td>0</td>\n",
       "      <td>4</td>\n",
       "      <td>2014-09-16</td>\n",
       "      <td>for lunch, my friend and i had: -lamb sandwich...</td>\n",
       "      <td>1</td>\n",
       "      <td>for lunch  my friend and i had   lamb sandwich...</td>\n",
       "      <td>lunch friend lamb sandwich juicy flavorful roa...</td>\n",
       "      <td>lunch friend lamb sandwich juicy flavorful roa...</td>\n",
       "    </tr>\n",
       "    <tr>\n",
       "      <th>4</th>\n",
       "      <td>941</td>\n",
       "      <td>0</td>\n",
       "      <td>5</td>\n",
       "      <td>2014-08-10</td>\n",
       "      <td>needed a quick, healthy light \"lunch\" and this...</td>\n",
       "      <td>1</td>\n",
       "      <td>needed a quick  healthy light  lunch  and this...</td>\n",
       "      <td>needed quick healthy light lunch place perfect...</td>\n",
       "      <td>need quick healthy light lunch place perfect n...</td>\n",
       "    </tr>\n",
       "  </tbody>\n",
       "</table>\n",
       "</div>"
      ],
      "text/plain": [
       "   User_id  Product_id  Rating        Date  \\\n",
       "0      937           0       4  2014-10-15   \n",
       "1      938           0       5  2014-10-10   \n",
       "2      939           0       3  2014-10-03   \n",
       "3      940           0       4  2014-09-16   \n",
       "4      941           0       5  2014-08-10   \n",
       "\n",
       "                                              Review  Label  \\\n",
       "0  tiny little place, but very good food. pastits...      1   \n",
       "1  i had the braised lamb sandwich and was one of...      1   \n",
       "2  this spot is close to my job so i decided to c...      1   \n",
       "3  for lunch, my friend and i had: -lamb sandwich...      1   \n",
       "4  needed a quick, healthy light \"lunch\" and this...      1   \n",
       "\n",
       "                                      Review_cleaned  \\\n",
       "0  tiny little place  but very good food  pastits...   \n",
       "1  i had the braised lamb sandwich and was one of...   \n",
       "2  this spot is close to my job so i decided to c...   \n",
       "3  for lunch  my friend and i had   lamb sandwich...   \n",
       "4  needed a quick  healthy light  lunch  and this...   \n",
       "\n",
       "                                 Review_no_stopwords  \\\n",
       "0  tiny little place good food pastitsio especial...   \n",
       "1  braised lamb sandwich one best sandwiches life...   \n",
       "2  spot close job decided check lunch prices woul...   \n",
       "3  lunch friend lamb sandwich juicy flavorful roa...   \n",
       "4  needed quick healthy light lunch place perfect...   \n",
       "\n",
       "                                        Review_Lemma  \n",
       "0  tiny little place good food pastitsio especial...  \n",
       "1  braise lamb sandwich one best sandwich life fa...  \n",
       "2  spot close job decide check lunch price would ...  \n",
       "3  lunch friend lamb sandwich juicy flavorful roa...  \n",
       "4  need quick healthy light lunch place perfect n...  "
      ]
     },
     "execution_count": 8,
     "metadata": {},
     "output_type": "execute_result"
    }
   ],
   "source": [
    "genuine=df[df['Label']==1].reset_index().drop(columns='index')\n",
    "genuine.head()"
   ]
  },
  {
   "cell_type": "code",
   "execution_count": 9,
   "metadata": {
    "ExecuteTime": {
     "end_time": "2022-05-04T23:51:15.246667Z",
     "start_time": "2022-05-04T23:51:15.232895Z"
    }
   },
   "outputs": [
    {
     "data": {
      "text/html": [
       "<div>\n",
       "<style scoped>\n",
       "    .dataframe tbody tr th:only-of-type {\n",
       "        vertical-align: middle;\n",
       "    }\n",
       "\n",
       "    .dataframe tbody tr th {\n",
       "        vertical-align: top;\n",
       "    }\n",
       "\n",
       "    .dataframe thead th {\n",
       "        text-align: right;\n",
       "    }\n",
       "</style>\n",
       "<table border=\"1\" class=\"dataframe\">\n",
       "  <thead>\n",
       "    <tr style=\"text-align: right;\">\n",
       "      <th></th>\n",
       "      <th>User_id</th>\n",
       "      <th>Product_id</th>\n",
       "      <th>Rating</th>\n",
       "      <th>Date</th>\n",
       "      <th>Review</th>\n",
       "      <th>Label</th>\n",
       "      <th>Review_cleaned</th>\n",
       "      <th>Review_no_stopwords</th>\n",
       "      <th>Review_Lemma</th>\n",
       "      <th>Tag</th>\n",
       "    </tr>\n",
       "  </thead>\n",
       "  <tbody>\n",
       "    <tr>\n",
       "      <th>0</th>\n",
       "      <td>937</td>\n",
       "      <td>0</td>\n",
       "      <td>4</td>\n",
       "      <td>2014-10-15</td>\n",
       "      <td>tiny little place, but very good food. pastits...</td>\n",
       "      <td>1</td>\n",
       "      <td>tiny little place  but very good food  pastits...</td>\n",
       "      <td>tiny little place good food pastitsio especial...</td>\n",
       "      <td>tiny little place good food pastitsio especial...</td>\n",
       "      <td>1</td>\n",
       "    </tr>\n",
       "    <tr>\n",
       "      <th>1</th>\n",
       "      <td>938</td>\n",
       "      <td>0</td>\n",
       "      <td>5</td>\n",
       "      <td>2014-10-10</td>\n",
       "      <td>i had the braised lamb sandwich and was one of...</td>\n",
       "      <td>1</td>\n",
       "      <td>i had the braised lamb sandwich and was one of...</td>\n",
       "      <td>braised lamb sandwich one best sandwiches life...</td>\n",
       "      <td>braise lamb sandwich one best sandwich life fa...</td>\n",
       "      <td>1</td>\n",
       "    </tr>\n",
       "    <tr>\n",
       "      <th>2</th>\n",
       "      <td>939</td>\n",
       "      <td>0</td>\n",
       "      <td>3</td>\n",
       "      <td>2014-10-03</td>\n",
       "      <td>this spot is close to my job so i decided to c...</td>\n",
       "      <td>1</td>\n",
       "      <td>this spot is close to my job so i decided to c...</td>\n",
       "      <td>spot close job decided check lunch prices woul...</td>\n",
       "      <td>spot close job decide check lunch price would ...</td>\n",
       "      <td>0</td>\n",
       "    </tr>\n",
       "    <tr>\n",
       "      <th>3</th>\n",
       "      <td>940</td>\n",
       "      <td>0</td>\n",
       "      <td>4</td>\n",
       "      <td>2014-09-16</td>\n",
       "      <td>for lunch, my friend and i had: -lamb sandwich...</td>\n",
       "      <td>1</td>\n",
       "      <td>for lunch  my friend and i had   lamb sandwich...</td>\n",
       "      <td>lunch friend lamb sandwich juicy flavorful roa...</td>\n",
       "      <td>lunch friend lamb sandwich juicy flavorful roa...</td>\n",
       "      <td>1</td>\n",
       "    </tr>\n",
       "    <tr>\n",
       "      <th>4</th>\n",
       "      <td>941</td>\n",
       "      <td>0</td>\n",
       "      <td>5</td>\n",
       "      <td>2014-08-10</td>\n",
       "      <td>needed a quick, healthy light \"lunch\" and this...</td>\n",
       "      <td>1</td>\n",
       "      <td>needed a quick  healthy light  lunch  and this...</td>\n",
       "      <td>needed quick healthy light lunch place perfect...</td>\n",
       "      <td>need quick healthy light lunch place perfect n...</td>\n",
       "      <td>1</td>\n",
       "    </tr>\n",
       "  </tbody>\n",
       "</table>\n",
       "</div>"
      ],
      "text/plain": [
       "   User_id  Product_id  Rating        Date  \\\n",
       "0      937           0       4  2014-10-15   \n",
       "1      938           0       5  2014-10-10   \n",
       "2      939           0       3  2014-10-03   \n",
       "3      940           0       4  2014-09-16   \n",
       "4      941           0       5  2014-08-10   \n",
       "\n",
       "                                              Review  Label  \\\n",
       "0  tiny little place, but very good food. pastits...      1   \n",
       "1  i had the braised lamb sandwich and was one of...      1   \n",
       "2  this spot is close to my job so i decided to c...      1   \n",
       "3  for lunch, my friend and i had: -lamb sandwich...      1   \n",
       "4  needed a quick, healthy light \"lunch\" and this...      1   \n",
       "\n",
       "                                      Review_cleaned  \\\n",
       "0  tiny little place  but very good food  pastits...   \n",
       "1  i had the braised lamb sandwich and was one of...   \n",
       "2  this spot is close to my job so i decided to c...   \n",
       "3  for lunch  my friend and i had   lamb sandwich...   \n",
       "4  needed a quick  healthy light  lunch  and this...   \n",
       "\n",
       "                                 Review_no_stopwords  \\\n",
       "0  tiny little place good food pastitsio especial...   \n",
       "1  braised lamb sandwich one best sandwiches life...   \n",
       "2  spot close job decided check lunch prices woul...   \n",
       "3  lunch friend lamb sandwich juicy flavorful roa...   \n",
       "4  needed quick healthy light lunch place perfect...   \n",
       "\n",
       "                                        Review_Lemma  Tag  \n",
       "0  tiny little place good food pastitsio especial...    1  \n",
       "1  braise lamb sandwich one best sandwich life fa...    1  \n",
       "2  spot close job decide check lunch price would ...    0  \n",
       "3  lunch friend lamb sandwich juicy flavorful roa...    1  \n",
       "4  need quick healthy light lunch place perfect n...    1  "
      ]
     },
     "execution_count": 9,
     "metadata": {},
     "output_type": "execute_result"
    }
   ],
   "source": [
    "genuine['Tag']=np.where(genuine['Rating']>3, 1, 0)\n",
    "genuine.head()"
   ]
  },
  {
   "cell_type": "code",
   "execution_count": 10,
   "metadata": {
    "ExecuteTime": {
     "end_time": "2022-05-04T23:51:15.792783Z",
     "start_time": "2022-05-04T23:51:15.785502Z"
    }
   },
   "outputs": [
    {
     "data": {
      "text/plain": [
       "1    248625\n",
       "0     73498\n",
       "Name: Tag, dtype: int64"
      ]
     },
     "execution_count": 10,
     "metadata": {},
     "output_type": "execute_result"
    }
   ],
   "source": [
    "genuine['Tag'].value_counts()"
   ]
  },
  {
   "cell_type": "markdown",
   "metadata": {},
   "source": [
    "## Tokenize"
   ]
  },
  {
   "cell_type": "markdown",
   "metadata": {},
   "source": [
    "### Set a Maximum Sequence Length"
   ]
  },
  {
   "cell_type": "code",
   "execution_count": 11,
   "metadata": {
    "ExecuteTime": {
     "end_time": "2022-05-04T23:51:17.078873Z",
     "start_time": "2022-05-04T23:51:17.075929Z"
    }
   },
   "outputs": [],
   "source": [
    "# pip install transformers"
   ]
  },
  {
   "cell_type": "code",
   "execution_count": 21,
   "metadata": {
    "ExecuteTime": {
     "end_time": "2022-05-04T23:55:38.621951Z",
     "start_time": "2022-05-04T23:55:38.608578Z"
    }
   },
   "outputs": [],
   "source": [
    "docs=genuine['Review_Lemma']"
   ]
  },
  {
   "cell_type": "code",
   "execution_count": 22,
   "metadata": {
    "ExecuteTime": {
     "end_time": "2022-05-04T23:57:01.515602Z",
     "start_time": "2022-05-04T23:56:36.429716Z"
    }
   },
   "outputs": [],
   "source": [
    "from keras.preprocessing.text import Tokenizer\n",
    "tokenizer = Tokenizer(num_words=10000, oov_token=\"UNKNOWN_TOKEN\")\n",
    "tokenizer.fit_on_texts(docs)"
   ]
  },
  {
   "cell_type": "code",
   "execution_count": 23,
   "metadata": {
    "ExecuteTime": {
     "end_time": "2022-05-05T00:04:18.144381Z",
     "start_time": "2022-05-05T00:04:16.540538Z"
    }
   },
   "outputs": [],
   "source": [
    "from typing import List\n",
    "def get_max_token_length_per_doc(docs: List[List[str]])-> int:\n",
    "    return max(list(map(lambda x: len(x.split()), docs)))\n",
    "\n",
    "# get the max length in terms of token length\n",
    "max_length = get_max_token_length_per_doc(docs)"
   ]
  },
  {
   "cell_type": "code",
   "execution_count": 67,
   "metadata": {
    "ExecuteTime": {
     "end_time": "2022-05-09T20:20:30.824611Z",
     "start_time": "2022-05-09T20:20:30.744904Z"
    }
   },
   "outputs": [
    {
     "data": {
      "text/plain": [
       "1321"
      ]
     },
     "execution_count": 67,
     "metadata": {},
     "output_type": "execute_result"
    }
   ],
   "source": [
    "max_length "
   ]
  },
  {
   "cell_type": "code",
   "execution_count": 103,
   "metadata": {
    "ExecuteTime": {
     "end_time": "2022-05-10T23:58:37.865816Z",
     "start_time": "2022-05-10T23:57:55.095997Z"
    }
   },
   "outputs": [],
   "source": [
    "def integer_encode_documents(docs, tokenizer):\n",
    "    return tokenizer.texts_to_sequences(docs)\n",
    "\n",
    "from tensorflow.keras.preprocessing.sequence import pad_sequences\n",
    "\n",
    "MAX_SEQUENCE_LENGTH = max_length\n",
    "# integer encode the documents\n",
    "encoded_docs = integer_encode_documents(docs, tokenizer)\n",
    "# this is a list of lists, the numbers represent the index position of that word.\n",
    "# for instance, 33 means the 33rd word in the vocabulary\n",
    "padded_docs = pad_sequences(encoded_docs, maxlen=MAX_SEQUENCE_LENGTH, padding='post')"
   ]
  },
  {
   "cell_type": "code",
   "execution_count": 104,
   "metadata": {
    "ExecuteTime": {
     "end_time": "2022-05-10T23:58:42.179224Z",
     "start_time": "2022-05-10T23:58:42.172238Z"
    }
   },
   "outputs": [
    {
     "name": "stdout",
     "output_type": "stream",
     "text": [
      "Encoded docs: [[334, 40, 5, 4, 6, 1, 231, 4], [979, 252, 84, 13, 31, 84, 459, 1, 18, 5, 88, 19, 3704, 137], [101, 265, 837, 203, 184, 119, 53, 22, 164, 1384, 1279, 505, 105, 119, 53, 55, 11, 27, 3, 1106, 1280, 284, 263, 73, 12, 43, 321, 103, 319, 33, 453, 73, 33, 2456, 333, 248, 992, 14, 1758, 200, 5059, 70, 86, 1287, 1016, 67, 576, 40, 375, 176, 262, 34, 273, 34, 73, 164, 445, 16, 517, 166, 2256, 576, 73, 273, 180, 1004, 331, 200, 576, 616, 50, 177, 1805, 34, 73, 174, 19, 88, 326, 23, 715, 1943, 334, 22, 8, 20, 18, 133, 226, 157, 73], [119, 37, 252, 84, 426, 269, 319, 764, 73, 48, 123, 131, 4, 64, 37, 171, 742, 43, 22, 1774, 34, 764, 139, 232, 516, 797, 1, 616, 1427, 33, 259, 5206, 37, 15, 8855, 5, 5, 57, 3, 29, 727, 4, 19, 203, 977], [142, 326, 775, 187, 119, 5, 100, 112, 14, 44, 3332, 590, 21, 18, 8985, 84, 28, 6, 60, 214, 308, 24]]\n",
      "Padded docs: [[334  40   5 ...   0   0   0]\n",
      " [979 252  84 ...   0   0   0]\n",
      " [101 265 837 ...   0   0   0]\n",
      " [119  37 252 ...   0   0   0]\n",
      " [142 326 775 ...   0   0   0]]\n"
     ]
    }
   ],
   "source": [
    "print(f\"Encoded docs: {encoded_docs[:5]}\")\n",
    "\n",
    "print(f\"Padded docs: {padded_docs[:5]}\")"
   ]
  },
  {
   "cell_type": "markdown",
   "metadata": {},
   "source": [
    "### Encode Labels"
   ]
  },
  {
   "cell_type": "code",
   "execution_count": 27,
   "metadata": {
    "ExecuteTime": {
     "end_time": "2022-05-05T00:15:16.018912Z",
     "start_time": "2022-05-05T00:15:16.015615Z"
    }
   },
   "outputs": [],
   "source": [
    "labels = genuine['Tag']"
   ]
  },
  {
   "cell_type": "code",
   "execution_count": 28,
   "metadata": {
    "ExecuteTime": {
     "end_time": "2022-05-05T00:15:25.993156Z",
     "start_time": "2022-05-05T00:15:24.496245Z"
    }
   },
   "outputs": [],
   "source": [
    "from tensorflow.keras.utils import to_categorical\n",
    "from sklearn.preprocessing import LabelEncoder\n",
    "encoder = LabelEncoder()\n",
    "labels = to_categorical(encoder.fit_transform(labels))"
   ]
  },
  {
   "cell_type": "code",
   "execution_count": 102,
   "metadata": {
    "ExecuteTime": {
     "end_time": "2022-05-10T23:57:21.349564Z",
     "start_time": "2022-05-10T23:57:21.343097Z"
    }
   },
   "outputs": [
    {
     "data": {
      "text/plain": [
       "array([[0., 1.],\n",
       "       [0., 1.],\n",
       "       [1., 0.],\n",
       "       ...,\n",
       "       [0., 1.],\n",
       "       [0., 1.],\n",
       "       [0., 1.]], dtype=float32)"
      ]
     },
     "execution_count": 102,
     "metadata": {},
     "output_type": "execute_result"
    }
   ],
   "source": [
    "labels"
   ]
  },
  {
   "cell_type": "markdown",
   "metadata": {},
   "source": [
    "## Perform Train/Test Split"
   ]
  },
  {
   "cell_type": "code",
   "execution_count": 109,
   "metadata": {
    "ExecuteTime": {
     "end_time": "2022-05-11T00:00:40.702049Z",
     "start_time": "2022-05-11T00:00:37.547003Z"
    }
   },
   "outputs": [],
   "source": [
    "from sklearn.model_selection import train_test_split\n",
    "X_train, X_test, y_train, y_test = train_test_split(padded_docs, labels,random_state=42, test_size=0.2,stratify=labels)"
   ]
  },
  {
   "cell_type": "code",
   "execution_count": 31,
   "metadata": {
    "ExecuteTime": {
     "end_time": "2022-05-05T00:16:00.378318Z",
     "start_time": "2022-05-05T00:16:00.342360Z"
    }
   },
   "outputs": [
    {
     "data": {
      "text/plain": [
       "0    1  \n",
       "0.0  1.0    49725\n",
       "1.0  0.0    14700\n",
       "dtype: int64"
      ]
     },
     "execution_count": 31,
     "metadata": {},
     "output_type": "execute_result"
    }
   ],
   "source": [
    "pd.DataFrame(y_test).value_counts()"
   ]
  },
  {
   "cell_type": "code",
   "execution_count": 32,
   "metadata": {
    "ExecuteTime": {
     "end_time": "2022-05-05T00:16:11.026373Z",
     "start_time": "2022-05-05T00:16:10.997649Z"
    }
   },
   "outputs": [
    {
     "data": {
      "text/plain": [
       "0    1  \n",
       "0.0  1.0    198900\n",
       "1.0  0.0     58798\n",
       "dtype: int64"
      ]
     },
     "execution_count": 32,
     "metadata": {},
     "output_type": "execute_result"
    }
   ],
   "source": [
    "pd.DataFrame(y_train).value_counts()"
   ]
  },
  {
   "cell_type": "markdown",
   "metadata": {},
   "source": [
    "## Import Keras Toolkit"
   ]
  },
  {
   "cell_type": "code",
   "execution_count": 34,
   "metadata": {
    "ExecuteTime": {
     "end_time": "2022-05-05T00:17:05.665818Z",
     "start_time": "2022-05-05T00:17:05.662087Z"
    }
   },
   "outputs": [],
   "source": [
    "from random import randint\n",
    "from numpy import array, argmax, asarray, zeros\n",
    "from keras.models import Sequential\n",
    "from keras.layers import Dense"
   ]
  },
  {
   "cell_type": "code",
   "execution_count": 35,
   "metadata": {
    "ExecuteTime": {
     "end_time": "2022-05-05T00:17:11.372356Z",
     "start_time": "2022-05-05T00:17:11.369216Z"
    }
   },
   "outputs": [],
   "source": [
    "VOCAB_SIZE = int(len(tokenizer.word_index) * 1.1)"
   ]
  },
  {
   "cell_type": "code",
   "execution_count": 36,
   "metadata": {
    "ExecuteTime": {
     "end_time": "2022-05-05T00:17:15.916957Z",
     "start_time": "2022-05-05T00:17:15.907448Z"
    }
   },
   "outputs": [],
   "source": [
    "import tensorflow\n",
    "tensorflow.random.set_seed(42)"
   ]
  },
  {
   "cell_type": "markdown",
   "metadata": {
    "ExecuteTime": {
     "end_time": "2022-05-05T00:17:24.718048Z",
     "start_time": "2022-05-05T00:17:24.715507Z"
    }
   },
   "source": [
    "## Load in GloVe Vectors"
   ]
  },
  {
   "cell_type": "code",
   "execution_count": 39,
   "metadata": {
    "ExecuteTime": {
     "end_time": "2022-05-05T00:18:36.056395Z",
     "start_time": "2022-05-05T00:18:22.443597Z"
    }
   },
   "outputs": [
    {
     "name": "stdout",
     "output_type": "stream",
     "text": [
      "Loaded 400000 word vectors.\n"
     ]
    }
   ],
   "source": [
    "from typing import Dict\n",
    "def load_glove_vectors()-> Dict:\n",
    "    embeddings_index = {}\n",
    "    with open('glove.6B.100d.txt') as f:\n",
    "        for line in f:\n",
    "            values = line.split()\n",
    "            word = values[0]\n",
    "            coefs = asarray(values[1:], dtype='float32')\n",
    "            embeddings_index[word] = coefs\n",
    "    print('Loaded %s word vectors.' % len(embeddings_index))\n",
    "    return embeddings_index\n",
    "\n",
    "\n",
    "embeddings_index = load_glove_vectors()"
   ]
  },
  {
   "cell_type": "markdown",
   "metadata": {},
   "source": [
    "## Load in Embeddings"
   ]
  },
  {
   "cell_type": "code",
   "execution_count": 101,
   "metadata": {
    "ExecuteTime": {
     "end_time": "2022-05-10T23:57:16.733235Z",
     "start_time": "2022-05-10T23:57:09.867131Z"
    }
   },
   "outputs": [],
   "source": [
    "# create a weight matrix for words in training docs\n",
    "embedding_matrix = zeros((VOCAB_SIZE, 100))\n",
    "for word, i in tokenizer.word_index.items():\n",
    "    embedding_vector = embeddings_index.get(word)\n",
    "    if embedding_vector is not None: # check that it is an actual word that we have embeddings for\n",
    "        embedding_matrix[i] = embedding_vector"
   ]
  },
  {
   "cell_type": "markdown",
   "metadata": {},
   "source": [
    "## Define in Model"
   ]
  },
  {
   "cell_type": "code",
   "execution_count": 165,
   "metadata": {
    "ExecuteTime": {
     "end_time": "2022-05-11T08:44:21.442391Z",
     "start_time": "2022-05-11T08:44:21.431090Z"
    }
   },
   "outputs": [],
   "source": [
    "from keras.layers.recurrent import SimpleRNN, LSTM\n",
    "from keras.layers import Flatten, Masking\n",
    "# define model\n",
    "def make_binary_classification_rnn_model(plot=False):\n",
    "    model = Sequential()\n",
    "    model.add(Embedding(VOCAB_SIZE, 100, weights=[embedding_matrix], input_length=MAX_SEQUENCE_LENGTH, trainable=False))\n",
    "    model.add(Masking(mask_value=0.0)) # masking layer, masks any words that don't have an embedding as 0s.\n",
    "    model.add(SimpleRNN(units=64, input_shape=(1, MAX_SEQUENCE_LENGTH)))\n",
    "    model.add(Dense(16))\n",
    "    model.add(Dense(2, activation='softmax'))\n",
    "    \n",
    "    # Compile the model\n",
    "    model.compile(\n",
    "    optimizer='adam', loss='categorical_crossentropy', metrics=['accuracy'])\n",
    "    # summarize the model\n",
    "    model.summary()\n",
    "    \n",
    "    if plot:\n",
    "        plot_model(model, to_file='model.png', show_shapes=True)\n",
    "    return model\n",
    "\n",
    "def make_lstm_classification_model(plot=False):\n",
    "    model = Sequential()\n",
    "    model.add(Embedding(VOCAB_SIZE, 100, weights=[embedding_matrix], input_length=MAX_SEQUENCE_LENGTH, trainable=False))\n",
    "    model.add(Masking(mask_value=0.0)) # masking layer, masks any words that don't have an embedding as 0s.\n",
    "    model.add(LSTM(units=32, input_shape=(1, MAX_SEQUENCE_LENGTH)))\n",
    "    model.add(Dense(16))\n",
    "    model.add(Dense(2, activation='softmax'))\n",
    "    \n",
    "    # Compile the model\n",
    "    model.compile(\n",
    "    optimizer='adam', loss='categorical_crossentropy', metrics=['accuracy'])\n",
    "    # summarize the model\n",
    "    model.summary()\n",
    "    \n",
    "    if plot:\n",
    "        plot_model(model, to_file='model.png', show_shapes=True)\n",
    "    return model"
   ]
  },
  {
   "cell_type": "markdown",
   "metadata": {},
   "source": [
    "## Compile Model"
   ]
  },
  {
   "cell_type": "code",
   "execution_count": 166,
   "metadata": {
    "ExecuteTime": {
     "end_time": "2022-05-11T08:44:23.887657Z",
     "start_time": "2022-05-11T08:44:22.878456Z"
    }
   },
   "outputs": [
    {
     "name": "stdout",
     "output_type": "stream",
     "text": [
      "Model: \"sequential_15\"\n",
      "_________________________________________________________________\n",
      "Layer (type)                 Output Shape              Param #   \n",
      "=================================================================\n",
      "embedding_15 (Embedding)     (None, 1321, 100)         12232000  \n",
      "_________________________________________________________________\n",
      "masking_14 (Masking)         (None, 1321, 100)         0         \n",
      "_________________________________________________________________\n",
      "lstm_8 (LSTM)                (None, 32)                17024     \n",
      "_________________________________________________________________\n",
      "dense_28 (Dense)             (None, 16)                528       \n",
      "_________________________________________________________________\n",
      "dense_29 (Dense)             (None, 2)                 34        \n",
      "=================================================================\n",
      "Total params: 12,249,586\n",
      "Trainable params: 17,586\n",
      "Non-trainable params: 12,232,000\n",
      "_________________________________________________________________\n",
      "Model: \"sequential_16\"\n",
      "_________________________________________________________________\n",
      "Layer (type)                 Output Shape              Param #   \n",
      "=================================================================\n",
      "embedding_16 (Embedding)     (None, 1321, 100)         12232000  \n",
      "_________________________________________________________________\n",
      "masking_15 (Masking)         (None, 1321, 100)         0         \n",
      "_________________________________________________________________\n",
      "simple_rnn_6 (SimpleRNN)     (None, 64)                10560     \n",
      "_________________________________________________________________\n",
      "dense_30 (Dense)             (None, 16)                1040      \n",
      "_________________________________________________________________\n",
      "dense_31 (Dense)             (None, 2)                 34        \n",
      "=================================================================\n",
      "Total params: 12,243,634\n",
      "Trainable params: 11,634\n",
      "Non-trainable params: 12,232,000\n",
      "_________________________________________________________________\n",
      "<tensorflow.python.keras.engine.sequential.Sequential object at 0x7fc4944b44c0>\n",
      "<tensorflow.python.keras.engine.sequential.Sequential object at 0x7fc54a0410d0>\n"
     ]
    }
   ],
   "source": [
    "model = make_lstm_classification_model()\n",
    "model_rnn = make_binary_classification_rnn_model()\n",
    "print(model)\n",
    "print(model_rnn)"
   ]
  },
  {
   "cell_type": "markdown",
   "metadata": {},
   "source": [
    "## Fit the Model"
   ]
  },
  {
   "cell_type": "code",
   "execution_count": 167,
   "metadata": {
    "ExecuteTime": {
     "end_time": "2022-05-11T22:57:18.838406Z",
     "start_time": "2022-05-11T08:44:26.667832Z"
    }
   },
   "outputs": [
    {
     "name": "stdout",
     "output_type": "stream",
     "text": [
      "Epoch 1/3\n",
      "7248/7248 [==============================] - 6013s 829ms/step - loss: 0.4007 - accuracy: 0.8243 - val_loss: 0.3082 - val_accuracy: 0.8711\n",
      "Epoch 2/3\n",
      "7248/7248 [==============================] - 31752s 4s/step - loss: 0.2992 - accuracy: 0.8757 - val_loss: 0.2933 - val_accuracy: 0.8785\n",
      "Epoch 3/3\n",
      "7248/7248 [==============================] - 13407s 2s/step - loss: 0.2817 - accuracy: 0.8834 - val_loss: 0.2835 - val_accuracy: 0.8819\n"
     ]
    }
   ],
   "source": [
    "# fit the model\n",
    "history = model.fit(X_train, y_train,validation_split = 0.1, epochs=3, verbose=1)"
   ]
  },
  {
   "cell_type": "code",
   "execution_count": 168,
   "metadata": {
    "ExecuteTime": {
     "end_time": "2022-05-12T01:02:24.928385Z",
     "start_time": "2022-05-11T22:57:18.869103Z"
    }
   },
   "outputs": [
    {
     "name": "stdout",
     "output_type": "stream",
     "text": [
      "Epoch 1/3\n",
      "7248/7248 [==============================] - 2756s 380ms/step - loss: 0.5236 - accuracy: 0.7706 - val_loss: 0.5291 - val_accuracy: 0.7692\n",
      "Epoch 2/3\n",
      "7248/7248 [==============================] - 2367s 327ms/step - loss: 0.5064 - accuracy: 0.7725 - val_loss: 0.5186 - val_accuracy: 0.7688\n",
      "Epoch 3/3\n",
      "7248/7248 [==============================] - 2382s 329ms/step - loss: 0.5066 - accuracy: 0.7745 - val_loss: 0.5189 - val_accuracy: 0.7680\n"
     ]
    }
   ],
   "source": [
    "# fit the rnn model\n",
    "history2 = model_rnn.fit(X_train, y_train,validation_split = 0.1, epochs=3, verbose=1)"
   ]
  },
  {
   "cell_type": "code",
   "execution_count": 169,
   "metadata": {
    "ExecuteTime": {
     "end_time": "2022-05-12T01:02:25.320302Z",
     "start_time": "2022-05-12T01:02:24.937095Z"
    }
   },
   "outputs": [
    {
     "data": {
      "image/png": "[encoded data removed]",
      "text/plain": [
       "<Figure size 432x288 with 1 Axes>"
      ]
     },
     "metadata": {
      "needs_background": "light"
     },
     "output_type": "display_data"
    }
   ],
   "source": [
    "# draw model\n",
    "import keras\n",
    "from matplotlib import pyplot as plt\n",
    "\n",
    "def plot_fit_history(history):\n",
    "    plt.plot(history.history['accuracy'])\n",
    "    plt.plot(history.history['val_accuracy'])\n",
    "    plt.title('model accuracy')\n",
    "    plt.ylabel('accuracy')\n",
    "    plt.xlabel('epoch')\n",
    "    plt.legend(['train', 'val'], loc='upper left')\n",
    "    plt.show()\n",
    "plot_fit_history(history)"
   ]
  },
  {
   "cell_type": "code",
   "execution_count": 170,
   "metadata": {
    "ExecuteTime": {
     "end_time": "2022-05-12T01:02:25.599948Z",
     "start_time": "2022-05-12T01:02:25.323836Z"
    }
   },
   "outputs": [
    {
     "data": {
      "image/png": "[encoded data removed]",
      "text/plain": [
       "<Figure size 432x288 with 1 Axes>"
      ]
     },
     "metadata": {
      "needs_background": "light"
     },
     "output_type": "display_data"
    }
   ],
   "source": [
    "# draw model rnn\n",
    "plot_fit_history(history2)"
   ]
  },
  {
   "cell_type": "markdown",
   "metadata": {},
   "source": [
    "## Evaluate the Model"
   ]
  },
  {
   "cell_type": "code",
   "execution_count": 171,
   "metadata": {
    "ExecuteTime": {
     "end_time": "2022-05-12T01:02:25.640705Z",
     "start_time": "2022-05-12T01:02:25.602503Z"
    }
   },
   "outputs": [
    {
     "data": {
      "text/plain": [
       "0.7718324987659994"
      ]
     },
     "execution_count": 171,
     "metadata": {},
     "output_type": "execute_result"
    }
   ],
   "source": [
    "# baseline accuracy\n",
    "genuine['Tag'].mean()"
   ]
  },
  {
   "cell_type": "code",
   "execution_count": 172,
   "metadata": {
    "ExecuteTime": {
     "end_time": "2022-05-12T01:05:20.042483Z",
     "start_time": "2022-05-12T01:02:25.643143Z"
    }
   },
   "outputs": [
    {
     "name": "stdout",
     "output_type": "stream",
     "text": [
      "2014/2014 [==============================] - 174s 87ms/step - loss: 0.2863 - accuracy: 0.8806\n",
      "Accuracy: 88.060534\n"
     ]
    }
   ],
   "source": [
    "# evaluate the model\n",
    "loss, accuracy = model.evaluate(X_test, y_test, verbose=1)\n",
    "print('Accuracy: %f' % (accuracy*100))"
   ]
  },
  {
   "cell_type": "code",
   "execution_count": 173,
   "metadata": {
    "ExecuteTime": {
     "end_time": "2022-05-12T01:08:16.604441Z",
     "start_time": "2022-05-12T01:05:20.045386Z"
    }
   },
   "outputs": [
    {
     "name": "stdout",
     "output_type": "stream",
     "text": [
      "2014/2014 [==============================] - 176s 88ms/step - loss: 0.5136 - accuracy: 0.7717\n",
      "Accuracy: 77.168798\n"
     ]
    }
   ],
   "source": [
    "# evaluate the rnn model\n",
    "loss, accuracy = model_rnn.evaluate(X_test, y_test, verbose=1)\n",
    "print('Accuracy: %f' % (accuracy*100))"
   ]
  },
  {
   "cell_type": "code",
   "execution_count": 75,
   "metadata": {
    "ExecuteTime": {
     "end_time": "2022-05-10T23:15:56.299381Z",
     "start_time": "2022-05-10T23:15:56.296196Z"
    }
   },
   "outputs": [],
   "source": [
    "import matplotlib.pyplot as plt\n",
    "import seaborn as sns"
   ]
  },
  {
   "cell_type": "code",
   "execution_count": 76,
   "metadata": {
    "ExecuteTime": {
     "end_time": "2022-05-10T23:16:21.508348Z",
     "start_time": "2022-05-10T23:16:21.350318Z"
    }
   },
   "outputs": [],
   "source": [
    "height = genuine['Review_Lemma'].apply(len)"
   ]
  },
  {
   "cell_type": "code",
   "execution_count": 81,
   "metadata": {
    "ExecuteTime": {
     "end_time": "2022-05-10T23:16:54.010620Z",
     "start_time": "2022-05-10T23:16:53.844313Z"
    }
   },
   "outputs": [
    {
     "data": {
      "text/plain": [
       "(array([2.49412e+05, 5.76650e+04, 1.09720e+04, 2.73300e+03, 8.83000e+02,\n",
       "        4.28000e+02, 2.60000e+01, 3.00000e+00, 0.00000e+00, 1.00000e+00]),\n",
       " array([1.0000e+00, 5.6250e+02, 1.1240e+03, 1.6855e+03, 2.2470e+03,\n",
       "        2.8085e+03, 3.3700e+03, 3.9315e+03, 4.4930e+03, 5.0545e+03,\n",
       "        5.6160e+03]),\n",
       " <a list of 10 Patch objects>)"
      ]
     },
     "execution_count": 81,
     "metadata": {},
     "output_type": "execute_result"
    },
    {
     "data": {
      "image/png": "[encoded data removed]",
      "text/plain": [
       "<Figure size 432x288 with 1 Axes>"
      ]
     },
     "metadata": {
      "needs_background": "light"
     },
     "output_type": "display_data"
    }
   ],
   "source": [
    "plt.hist(height, bins=10)"
   ]
  },
  {
   "cell_type": "code",
   "execution_count": 174,
   "metadata": {
    "ExecuteTime": {
     "end_time": "2022-05-12T01:13:52.925337Z",
     "start_time": "2022-05-12T01:11:04.398663Z"
    }
   },
   "outputs": [],
   "source": [
    "predictions = model.predict(X_test)"
   ]
  },
  {
   "cell_type": "code",
   "execution_count": 175,
   "metadata": {
    "ExecuteTime": {
     "end_time": "2022-05-12T01:16:36.029001Z",
     "start_time": "2022-05-12T01:16:36.015686Z"
    }
   },
   "outputs": [
    {
     "data": {
      "text/plain": [
       "array([[0.23710972, 0.7628903 ],\n",
       "       [0.27308726, 0.72691274],\n",
       "       [0.03399411, 0.9660059 ],\n",
       "       ...,\n",
       "       [0.5366119 , 0.46338812],\n",
       "       [0.07428753, 0.92571247],\n",
       "       [0.08190072, 0.9180993 ]], dtype=float32)"
      ]
     },
     "execution_count": 175,
     "metadata": {},
     "output_type": "execute_result"
    }
   ],
   "source": [
    "predictions"
   ]
  },
  {
   "cell_type": "code",
   "execution_count": 183,
   "metadata": {
    "ExecuteTime": {
     "end_time": "2022-05-12T01:20:53.948653Z",
     "start_time": "2022-05-12T01:20:53.934828Z"
    }
   },
   "outputs": [],
   "source": [
    "from sklearn.metrics import confusion_matrix\n",
    "y_pred = (predictions > 0.5)\n",
    "\n",
    "matrix = confusion_matrix(y_test.argmax(axis=1), y_pred.argmax(axis=1))"
   ]
  },
  {
   "cell_type": "code",
   "execution_count": 184,
   "metadata": {
    "ExecuteTime": {
     "end_time": "2022-05-12T01:20:59.670731Z",
     "start_time": "2022-05-12T01:20:59.662439Z"
    }
   },
   "outputs": [
    {
     "data": {
      "text/plain": [
       "array([[ 9311,  5389],\n",
       "       [ 2303, 47422]])"
      ]
     },
     "execution_count": 184,
     "metadata": {},
     "output_type": "execute_result"
    }
   ],
   "source": [
    "matrix"
   ]
  },
  {
   "cell_type": "code",
   "execution_count": 188,
   "metadata": {
    "ExecuteTime": {
     "end_time": "2022-05-12T01:31:41.793916Z",
     "start_time": "2022-05-12T01:31:41.776596Z"
    }
   },
   "outputs": [
    {
     "data": {
      "text/plain": [
       "0.6334013605442177"
      ]
     },
     "execution_count": 188,
     "metadata": {},
     "output_type": "execute_result"
    }
   ],
   "source": [
    "precision = 9311/(9311+5389)\n",
    "precision"
   ]
  },
  {
   "cell_type": "code",
   "execution_count": 189,
   "metadata": {
    "ExecuteTime": {
     "end_time": "2022-05-12T01:32:53.298057Z",
     "start_time": "2022-05-12T01:32:53.289380Z"
    }
   },
   "outputs": [
    {
     "data": {
      "text/plain": [
       "0.801704838987429"
      ]
     },
     "execution_count": 189,
     "metadata": {},
     "output_type": "execute_result"
    }
   ],
   "source": [
    "recall = 9311/(9311+2303)\n",
    "recall"
   ]
  },
  {
   "cell_type": "code",
   "execution_count": null,
   "metadata": {},
   "outputs": [],
   "source": []
  }
 ],
 "metadata": {
  "kernelspec": {
   "display_name": "Python 3",
   "language": "python",
   "name": "python3"
  },
  "language_info": {
   "codemirror_mode": {
    "name": "ipython",
    "version": 3
   },
   "file_extension": ".py",
   "mimetype": "text/x-python",
   "name": "python",
   "nbconvert_exporter": "python",
   "pygments_lexer": "ipython3",
   "version": "3.8.3"
  },
  "varInspector": {
   "cols": {
    "lenName": 16,
    "lenType": 16,
    "lenVar": 40
   },
   "kernels_config": {
    "python": {
     "delete_cmd_postfix": "",
     "delete_cmd_prefix": "del ",
     "library": "var_list.py",
     "varRefreshCmd": "print(var_dic_list())"
    },
    "r": {
     "delete_cmd_postfix": ") ",
     "delete_cmd_prefix": "rm(",
     "library": "var_list.r",
     "varRefreshCmd": "cat(var_dic_list()) "
    }
   },
   "types_to_exclude": [
    "module",
    "function",
    "builtin_function_or_method",
    "instance",
    "_Feature"
   ],
   "window_display": false
  }
 },
 "nbformat": 4,
 "nbformat_minor": 4
}
